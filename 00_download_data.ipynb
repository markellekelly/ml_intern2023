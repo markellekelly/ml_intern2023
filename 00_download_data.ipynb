{
 "cells": [
  {
   "cell_type": "code",
   "execution_count": null,
   "metadata": {},
   "outputs": [],
   "source": [
    "import pandas as pd # import the pandas python package"
   ]
  },
  {
   "cell_type": "markdown",
   "metadata": {},
   "source": [
    "We'll practice data analysis skills using the Iris dataset, a simple dataset commonly used in machine learning. The goal is to predict the species of an Iris flower (setosa, versicolor, or virginica) given its sepal and petal measurements: ![img](https://machinelearninghd.com/wp-content/uploads/2021/03/iris-dataset.png)"
   ]
  },
  {
   "cell_type": "markdown",
   "metadata": {},
   "source": [
    "To work with a data file, we first need to load it into a pandas **DataFrame**. This is a useful Python object (from the pandas library) that allows us to view and manipulate tabular datasets. This notebook will introduce simple python and pandas syntax for creating and using a DataFrame. First, we'll use the pandas read_csv function to create a DataFrame from our data file. First, you'll have to find the name of the file (it's in the \"data\" folder—don't use the \"messy\" ones for now!)"
   ]
  },
  {
   "cell_type": "code",
   "execution_count": null,
   "metadata": {},
   "outputs": [],
   "source": [
    "filename = \"data/???\" # TODO: fill in the name (a string) of the Iris data file\n",
    "\n",
    "# the read_csv command auto-creates a dataframe from  a csv (data file format)\n",
    "df = pd.read_csv(filename, header=None)"
   ]
  },
  {
   "cell_type": "markdown",
   "metadata": {},
   "source": [
    "Now that we have the `df`, we can use some simple pandas functionality to inspect it. Take a look at the documentation for [.shape](https://pandas.pydata.org/docs/reference/api/pandas.DataFrame.shape.html), [.head()](https://pandas.pydata.org/docs/reference/api/pandas.DataFrame.head.html), [.columns](https://pandas.pydata.org/docs/reference/api/pandas.DataFrame.columns.html), and [.describe()](https://pandas.pydata.org/docs/reference/api/pandas.DataFrame.describe.html). We'll use these attributes and methods to understand the Iris dataset a bit better."
   ]
  },
  {
   "cell_type": "code",
   "execution_count": null,
   "metadata": {},
   "outputs": [],
   "source": [
    "df... # TODO: inspect the shape attribute to find the number of rows and columns"
   ]
  },
  {
   "cell_type": "code",
   "execution_count": null,
   "metadata": {},
   "outputs": [],
   "source": [
    "df... # TODO: use the head() method to display the first 10 rows of the dataframe"
   ]
  },
  {
   "cell_type": "markdown",
   "metadata": {},
   "source": [
    "We can see that there are 5 columns of this dataset, or 5 different variables that have been recorded about each Iris flower. Right now, we can't tell from the DataFrame what each of these columns correspond to. We can use the `columns` attribute to add a descriptive name for each column. Check the [documentation](https://archive.ics.uci.edu/dataset/53/iris) for the Iris dataset to see what each column corresponds to (they are listed in the \"Features\" table)."
   ]
  },
  {
   "cell_type": "code",
   "execution_count": null,
   "metadata": {},
   "outputs": [],
   "source": [
    "#TODO: fill in the two missing column names\n",
    "column_names = ['sepal_length','???','petal_length','???','class'] # a list of strings"
   ]
  },
  {
   "cell_type": "code",
   "execution_count": null,
   "metadata": {},
   "outputs": [],
   "source": [
    "df.columns = column_names # set the columns attribute to this list"
   ]
  },
  {
   "cell_type": "code",
   "execution_count": null,
   "metadata": {},
   "outputs": [],
   "source": [
    "??? # TODO: check the head of the DataFrame again to ensure the column names have been set"
   ]
  },
  {
   "cell_type": "markdown",
   "metadata": {},
   "source": [
    "Finally, we can use the `describe` method to understand the numeric features a bit better. What are their average values? Which variable has the highest maximum value?"
   ]
  },
  {
   "cell_type": "code",
   "execution_count": null,
   "metadata": {},
   "outputs": [],
   "source": [
    "??? # TODO: use the describe() method to print summary statistics for the four numeric features"
   ]
  },
  {
   "cell_type": "markdown",
   "metadata": {},
   "source": [
    "These values are *summary statistics* of our data. `count` is just the number of observations (so it's the same for all four columns). We then have the `mean`, standard deviation (`std`), minimum and maximum (`min` and `max`, respectively), and the `25%`, `50%`, and `75%` quantiles."
   ]
  }
 ],
 "metadata": {
  "kernelspec": {
   "display_name": "Python 3 (ipykernel)",
   "language": "python",
   "name": "python3"
  },
  "language_info": {
   "codemirror_mode": {
    "name": "ipython",
    "version": 3
   },
   "file_extension": ".py",
   "mimetype": "text/x-python",
   "name": "python",
   "nbconvert_exporter": "python",
   "pygments_lexer": "ipython3",
   "version": "3.8.15"
  }
 },
 "nbformat": 4,
 "nbformat_minor": 4
}

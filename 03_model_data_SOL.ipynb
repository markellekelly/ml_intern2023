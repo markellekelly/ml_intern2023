{
 "cells": [
  {
   "cell_type": "code",
   "execution_count": 1,
   "id": "32a7832b-c84f-466a-9ba3-ec6cd269c21a",
   "metadata": {},
   "outputs": [],
   "source": [
    "import pandas as pd\n",
    "import numpy as np"
   ]
  },
  {
   "cell_type": "code",
   "execution_count": 2,
   "id": "068982d2-24a1-4e8f-bea0-1ae39d30500f",
   "metadata": {},
   "outputs": [],
   "source": [
    "df = pd.read_csv('data/iris.data', header=None)\n",
    "df.columns = ['sepal_length','sepal_width','petal_length','petal_width','class']"
   ]
  },
  {
   "cell_type": "markdown",
   "id": "c8659267-5952-4016-b2e3-3ae75b4338b5",
   "metadata": {},
   "source": [
    "In this notebook you'll be introduced to the main idea and workflow of *modeling* data. In this context, a *model* is an algorithm that takes some input `X` and produces some output `y`. Typically, `y` is some information about the data that we want to predict based on the observed `X`. \n",
    "\n",
    "For example, in our Iris dataset, we have *labels* for the species of all 150 flowers (e.g., a botanist looked at each flower and identified its species). Using this dataset, we can *train* a model that predicts the species of flower based on its measurements. Then, if we obtain the measurements of a new flower, we can use our model to predict its species (without showing a photo of the flower to a botanist for identification).  "
   ]
  },
  {
   "cell_type": "markdown",
   "id": "886b2a2c-d555-4f0f-a81c-8b6b08173782",
   "metadata": {},
   "source": [
    "To start, we can split our dataset up into `X` and `y`:"
   ]
  },
  {
   "cell_type": "code",
   "execution_count": 3,
   "id": "1c592307-23d4-4a60-942e-aecf671818ed",
   "metadata": {},
   "outputs": [],
   "source": [
    "X = df[['sepal_length','sepal_width','petal_length','petal_width']]\n",
    "y = df['class']"
   ]
  },
  {
   "cell_type": "markdown",
   "id": "813c772f-9f9b-4ce6-a6e1-e2333c3bea58",
   "metadata": {},
   "source": [
    "We will start with a relatively simple type of model called **logistic regression**. A brief review of logistic regression can be found here (todo). Don't worry about understanding the technical details right now, we'll first focus on the high-level process of modeling data."
   ]
  },
  {
   "cell_type": "markdown",
   "id": "a6614ebc-9dcc-439e-97f6-7f8f95e4c98f",
   "metadata": {},
   "source": [
    "# Logistic Regression"
   ]
  },
  {
   "cell_type": "markdown",
   "id": "1dc6191d-897b-4ec1-864e-14b547983033",
   "metadata": {},
   "source": [
    "[Scikit-learn](https://scikit-learn.org/stable/index.html) is a Python library for training and evaluating machine learning models. In this section, we go over the fundamental steps of building a model in scikit-learn. First, we will import the specific model that we need (`LogisticRegression`)."
   ]
  },
  {
   "cell_type": "code",
   "execution_count": 4,
   "id": "0786d7bb-261a-4152-a7e4-b2c9e38dd1d2",
   "metadata": {},
   "outputs": [],
   "source": [
    "from sklearn.linear_model import LogisticRegression"
   ]
  },
  {
   "cell_type": "markdown",
   "id": "81edc11e-4098-4dcd-8a25-958bad642a18",
   "metadata": {},
   "source": [
    "We then need to create an instance of the logistic regression model, which can be done by calling `LogisticRegression()`. If we want to specify any particular model settings, we would pass them to the function here (we'll look at this in detail later in this notebook)."
   ]
  },
  {
   "cell_type": "code",
   "execution_count": 5,
   "id": "2382a0b6-697a-4f91-9758-41616d38e42d",
   "metadata": {},
   "outputs": [],
   "source": [
    "lr = LogisticRegression()"
   ]
  },
  {
   "cell_type": "markdown",
   "id": "22ff4201-75b6-4e69-90ff-9726de26ad9b",
   "metadata": {},
   "source": [
    "Then, we **train** the model, attempting to teach it to predict `y` from `X`. To do this, we call the `fit` method on the model we created, giving it our `X` and `y`. "
   ]
  },
  {
   "cell_type": "code",
   "execution_count": 6,
   "id": "9fdc1f64-02ed-4304-a06a-a93856e21a23",
   "metadata": {},
   "outputs": [
    {
     "data": {
      "text/plain": [
       "LogisticRegression(C=1.0, class_weight=None, dual=False, fit_intercept=True,\n",
       "                   intercept_scaling=1, l1_ratio=None, max_iter=100,\n",
       "                   multi_class='auto', n_jobs=None, penalty='l2',\n",
       "                   random_state=None, solver='lbfgs', tol=0.0001, verbose=0,\n",
       "                   warm_start=False)"
      ]
     },
     "execution_count": 6,
     "metadata": {},
     "output_type": "execute_result"
    }
   ],
   "source": [
    "lr.fit(X, y)"
   ]
  },
  {
   "cell_type": "markdown",
   "id": "5ee3da45-3164-4407-b70d-f98379e1ff64",
   "metadata": {},
   "source": [
    "Now that it has been trained, we can use the model to predict a flower's species given its measurements. For example, the model predicts that a flower with a sepal length, sepal width, petal length, and petal width of 5.0, 4.7, 1.3, and 0.2, respectively, is an Iris setosa flower:"
   ]
  },
  {
   "cell_type": "code",
   "execution_count": 7,
   "id": "99f50666-fec5-4ce1-a311-76caa67d6a4a",
   "metadata": {},
   "outputs": [],
   "source": [
    "X_new = [5.0,4.7,1.3,0.2] \n",
    "X_new = np.array(X_new).reshape(1, -1) # use numpy to put the new row in the correct format"
   ]
  },
  {
   "cell_type": "code",
   "execution_count": 8,
   "id": "3f5de005-29cb-402a-a1a4-9047bcd2789c",
   "metadata": {},
   "outputs": [
    {
     "data": {
      "text/plain": [
       "array(['Iris-setosa'], dtype=object)"
      ]
     },
     "execution_count": 8,
     "metadata": {},
     "output_type": "execute_result"
    }
   ],
   "source": [
    "lr.predict(X_new)"
   ]
  },
  {
   "cell_type": "markdown",
   "id": "89d0384f-15a8-4c8f-b217-aeb5afb85c86",
   "metadata": {},
   "source": [
    "Now that we have our model, it's important to **evaluate** it, or check the quality of its predictions. There are many different model evaluation strategies. For a simple example, we can give the model our data `X` and observe the predictions it makes. These predictions are denoted `ŷ`, pronounced \"y hat.\" We can then compare these predictions to the true `y`."
   ]
  },
  {
   "cell_type": "code",
   "execution_count": 9,
   "id": "fe42400e-28bd-4a89-a0cc-60d54948ba4e",
   "metadata": {},
   "outputs": [],
   "source": [
    "y_hat = lr.predict(X)"
   ]
  },
  {
   "cell_type": "markdown",
   "id": "7b1bb7e9-e758-4af8-893f-9085b80eed4d",
   "metadata": {},
   "source": [
    "For example, we can check how often the predicted species is equal to the true species (i.e., the *accuracy* of the model):"
   ]
  },
  {
   "cell_type": "code",
   "execution_count": 10,
   "id": "d0a948d5-a82a-4d54-b134-7741c817879f",
   "metadata": {},
   "outputs": [
    {
     "data": {
      "text/plain": [
       "0.9733333333333334"
      ]
     },
     "execution_count": 10,
     "metadata": {},
     "output_type": "execute_result"
    }
   ],
   "source": [
    "sum(y_hat==y)/len(y)"
   ]
  },
  {
   "cell_type": "markdown",
   "id": "dc7f280d-e87a-41ac-a35b-982f150874a9",
   "metadata": {},
   "source": [
    "Scikit-learn has a built-in method, `score`, to do the same thing (generate predictions from `X` and check accuracy against the true `y`):"
   ]
  },
  {
   "cell_type": "code",
   "execution_count": 11,
   "id": "b0fc2562-afc6-4294-847e-bc58c03cbe7a",
   "metadata": {},
   "outputs": [
    {
     "data": {
      "text/plain": [
       "0.9733333333333334"
      ]
     },
     "execution_count": 11,
     "metadata": {},
     "output_type": "execute_result"
    }
   ],
   "source": [
    "lr.score(X, y)"
   ]
  },
  {
   "cell_type": "markdown",
   "id": "db2ea679-feec-482f-8c6c-4586ac4cd1fb",
   "metadata": {},
   "source": [
    "# Notes: Overfitting"
   ]
  },
  {
   "cell_type": "markdown",
   "id": "5bfa3d8e-4f33-4a9b-85bf-1b340ff5037e",
   "metadata": {},
   "source": [
    "However, in practice, we don't *evaluate* the model using the same data it was trained on. The reason for this is that we want to quantify how well the model will perform on new data it hasn't seen before. Otherwise, the model could end up \"memorizing\" the training data points."
   ]
  },
  {
   "cell_type": "markdown",
   "id": "30a8ba4e-9a91-4bed-9f9a-88fda98db91c",
   "metadata": {},
   "source": [
    "This is related to the problem of **overfitting**. A common issue with machine learning models is that they can become too specific to the training data, or memorize the training data, and not be well-equipped to generalize to new data. To be more concrete, consider the following data:"
   ]
  },
  {
   "cell_type": "code",
   "execution_count": 12,
   "id": "1a9a19b0-2388-4b16-bf27-02906708a92a",
   "metadata": {},
   "outputs": [],
   "source": [
    "import matplotlib.pyplot as plt"
   ]
  },
  {
   "cell_type": "code",
   "execution_count": 13,
   "id": "459729a7-6914-477f-b392-c95f9167e334",
   "metadata": {},
   "outputs": [
    {
     "data": {
      "image/png": "[encoded data removed]",
      "text/plain": [
       "<Figure size 600x400 with 1 Axes>"
      ]
     },
     "metadata": {},
     "output_type": "display_data"
    }
   ],
   "source": [
    "class_colors = {'Iris-setosa': 'red', 'Iris-versicolor': 'green', 'Iris-virginica': 'blue'}\n",
    "fig, ax = plt.subplots(figsize=(6,4))\n",
    "\n",
    "for iris_class in ['Iris-versicolor','Iris-virginica']:\n",
    "    class_data = df[df['class'] == iris_class]\n",
    "    ax.scatter(class_data['sepal_width'], class_data['petal_width'],\n",
    "               color=class_colors[iris_class], label=iris_class) \n",
    "\n",
    "ax.set_xlabel('Sepal Width'); ax.set_ylabel('Petal Width')\n",
    "ax.legend() \n",
    "plt.show()"
   ]
  },
  {
   "cell_type": "markdown",
   "id": "548794f9-f1b0-4eb8-b046-515164c6416a",
   "metadata": {},
   "source": [
    "Given just the sepal and petal widths of a flower, if we wanted to make a simple \"model\" to predict whether it's a versicolor or virginica flower, we could, for instance, decide based on whether the point falls above or below some dividing line, for example:"
   ]
  },
  {
   "cell_type": "markdown",
   "id": "9ec906e2-0bd0-49f5-9723-77f9c90157d0",
   "metadata": {},
   "source": [
    "![balance](https://www.markellekelly.com/assets/balance.png)"
   ]
  },
  {
   "cell_type": "markdown",
   "id": "8d2b957d-56e7-4e81-b9d0-8a73e99cf226",
   "metadata": {},
   "source": [
    "With this approach, a few flowers from both species would be labeled incorrectly, but the line seems like an appropriate summary of the pattern we see. We can imagine that if we added some new flowers to this graph, the line would mostly correctly classify them."
   ]
  },
  {
   "cell_type": "markdown",
   "id": "a975c2f2-5463-4ab5-b2c2-43c08dc3f17d",
   "metadata": {},
   "source": [
    "However, if we wanted to create a model with perfect accuracy on these points, we could draw a line like this:"
   ]
  },
  {
   "cell_type": "markdown",
   "id": "90662c3b-8f92-49d3-bbb8-dd3b56a71722",
   "metadata": {},
   "source": [
    "![overfit](https://www.markellekelly.com/assets/overfit.png)"
   ]
  },
  {
   "cell_type": "markdown",
   "id": "e685ec82-7d76-4a6e-8d2b-705dcb1acd86",
   "metadata": {},
   "source": [
    "Using this line to divide the data, all the points in our dataset would be correctly classified. However, it seems unlikely that, if we observed 100 new flowers, that they would all be correctly classified by this line. Thus, this curvy line *overfits* the data. "
   ]
  },
  {
   "cell_type": "markdown",
   "id": "3cb8b0fe-930c-402d-b82d-93e64ba3973e",
   "metadata": {},
   "source": [
    "As we've shown here, achieving very high accuracy on the data you already have may not translate to optimal performance on new data. So how can we evaluate our model without waiting for new data to be collected?"
   ]
  },
  {
   "cell_type": "markdown",
   "id": "7cf6f307-e3ca-483a-a859-91ce0ef91fde",
   "metadata": {},
   "source": [
    "# Model Evaluation: Train/test split"
   ]
  },
  {
   "cell_type": "markdown",
   "id": "23247bd8-8d52-40a7-8997-55e4da2a249c",
   "metadata": {},
   "source": [
    "In general, we evaluate models using a **train/test split**. This means that, before we perform any modeling on the data, we randomly select some observations to *hold out*. In other words, we split up the dataset, using part of it to train the model while saving some (unseen to the model) data for model evaluation. Scikit-learn has a function [train_test_split](https://scikit-learn.org/stable/modules/generated/sklearn.model_selection.train_test_split.html) to split up the data for us:"
   ]
  },
  {
   "cell_type": "code",
   "execution_count": 14,
   "id": "872aa860-bfb9-4aa1-8ae1-c99aaeaae296",
   "metadata": {},
   "outputs": [],
   "source": [
    "from sklearn.model_selection import train_test_split"
   ]
  },
  {
   "cell_type": "code",
   "execution_count": 15,
   "id": "f97200ee-3640-4cea-88fb-b5a043cbd484",
   "metadata": {},
   "outputs": [],
   "source": [
    "X_train, X_test, y_train, y_test = train_test_split(X, y, random_state=0)"
   ]
  },
  {
   "cell_type": "markdown",
   "id": "dbd6af5d-0fe0-45d9-81dc-d9e8dec865a7",
   "metadata": {},
   "source": [
    "By default, `train_test_split` randomly chooses 25% of the data to save for testing. This testing data is stored in `X_test` and `y_test`, while the subset we'll use for training is `X_train` and `y_train`. (Side note: although these points are randomly chosen, we set the `random_state` argument, which ensures that our results are the same every time). Of our 150 data points, we have 112 points to train the model and 38 that we'll save to test it:"
   ]
  },
  {
   "cell_type": "code",
   "execution_count": 16,
   "id": "79c9b18b-51a2-4ec6-ad1e-2b7b0aac7f53",
   "metadata": {},
   "outputs": [
    {
     "data": {
      "text/plain": [
       "112"
      ]
     },
     "execution_count": 16,
     "metadata": {},
     "output_type": "execute_result"
    }
   ],
   "source": [
    "len(y_train)"
   ]
  },
  {
   "cell_type": "code",
   "execution_count": 17,
   "id": "5e9cf533-4b0c-41b2-9612-a8cae162a5e1",
   "metadata": {},
   "outputs": [
    {
     "data": {
      "text/plain": [
       "38"
      ]
     },
     "execution_count": 17,
     "metadata": {},
     "output_type": "execute_result"
    }
   ],
   "source": [
    "len(y_test)"
   ]
  },
  {
   "cell_type": "markdown",
   "id": "8c6c7b25-d7c8-4cc3-b837-58f356e07879",
   "metadata": {},
   "source": [
    "Let's re-run our logistic regression using this train/test paradigm."
   ]
  },
  {
   "cell_type": "code",
   "execution_count": 18,
   "id": "a50c184b-48e8-49b4-977a-a11a8a48abb6",
   "metadata": {},
   "outputs": [],
   "source": [
    "lr = LogisticRegression(solver='liblinear', random_state=0)"
   ]
  },
  {
   "cell_type": "code",
   "execution_count": 19,
   "id": "9d3c05bd-daa7-43f5-a231-55c003104575",
   "metadata": {},
   "outputs": [
    {
     "data": {
      "text/plain": [
       "LogisticRegression(C=1.0, class_weight=None, dual=False, fit_intercept=True,\n",
       "                   intercept_scaling=1, l1_ratio=None, max_iter=100,\n",
       "                   multi_class='auto', n_jobs=None, penalty='l2',\n",
       "                   random_state=0, solver='liblinear', tol=0.0001, verbose=0,\n",
       "                   warm_start=False)"
      ]
     },
     "execution_count": 19,
     "metadata": {},
     "output_type": "execute_result"
    }
   ],
   "source": [
    "lr.fit(X_train, y_train) # fit, or train, the model on the training data"
   ]
  },
  {
   "cell_type": "markdown",
   "id": "0cad7705-cf11-404f-ab4e-d7dcd9c98791",
   "metadata": {},
   "source": [
    "Our accuracy on the training dataset is relatively high at about 94.6%:"
   ]
  },
  {
   "cell_type": "code",
   "execution_count": 20,
   "id": "dafcd354-77a8-4a0c-9bbe-ba051b9f99ed",
   "metadata": {},
   "outputs": [
    {
     "data": {
      "text/plain": [
       "0.9464285714285714"
      ]
     },
     "execution_count": 20,
     "metadata": {},
     "output_type": "execute_result"
    }
   ],
   "source": [
    "lr.score(X_train, y_train)"
   ]
  },
  {
   "cell_type": "markdown",
   "id": "229d2004-c384-494c-a521-08c654e9b6d3",
   "metadata": {},
   "source": [
    "However, our *test accuracy* is not as high at about 86.8%:"
   ]
  },
  {
   "cell_type": "code",
   "execution_count": 21,
   "id": "f4ab7a5c-579e-435c-84e1-dfb9b75370ec",
   "metadata": {},
   "outputs": [
    {
     "data": {
      "text/plain": [
       "0.868421052631579"
      ]
     },
     "execution_count": 21,
     "metadata": {},
     "output_type": "execute_result"
    }
   ],
   "source": [
    "lr.score(X_test, y_test) # evaluate, or test, the model on the testing data"
   ]
  },
  {
   "cell_type": "markdown",
   "id": "0cbac4dd-483a-45b7-8e2b-61632ede0073",
   "metadata": {},
   "source": [
    "It seems like this logistic regression model is not generalizing to \"new\" flowers as well as it could be. Let's bring out the big guns!"
   ]
  },
  {
   "cell_type": "markdown",
   "id": "1c00a249-7f62-4fbf-948a-3b09ec791ee3",
   "metadata": {},
   "source": [
    "# Neural Networks"
   ]
  },
  {
   "cell_type": "markdown",
   "id": "eceda2b9-ffba-4554-b496-6757735dbd7d",
   "metadata": {},
   "source": [
    "**Neural networks** are the highest-performing, most-discussed machine learning models used today. The \"AI\"s you hear about on the news (e.g., [DALL-E](https://www.wired.com/story/dalle-ai-meme-machine/) or [ChatGPT](https://openai.com/chatgpt)), are (very big and complex) neural networks. We won't get into the technical details of how neural networks work right now, but check out (todo) for the main ideas."
   ]
  },
  {
   "cell_type": "markdown",
   "id": "b93fb461-81ac-45c3-a533-9b6ce762c230",
   "metadata": {},
   "source": [
    "We can build a simple neural network in scikit-learn by creating an `MLPClassifier`:"
   ]
  },
  {
   "cell_type": "code",
   "execution_count": 22,
   "id": "863c06f8-bff1-45d1-a0bc-97b510a0ef33",
   "metadata": {},
   "outputs": [],
   "source": [
    "from sklearn.neural_network import MLPClassifier"
   ]
  },
  {
   "cell_type": "code",
   "execution_count": 23,
   "id": "7e1ae23d-ae4e-4acf-8916-13a215d0fd3b",
   "metadata": {},
   "outputs": [],
   "source": [
    "mlp = MLPClassifier(max_iter=1000, random_state=0)"
   ]
  },
  {
   "cell_type": "markdown",
   "id": "6e20f57d-74fd-486f-af7c-adbb0c8bf5ae",
   "metadata": {},
   "source": [
    "Using the same `fit()` method we used for the logistic regression, train the `mlp` on our training data:"
   ]
  },
  {
   "cell_type": "code",
   "execution_count": 25,
   "id": "1249841f-2260-412c-b431-a9ca18b2258c",
   "metadata": {},
   "outputs": [
    {
     "data": {
      "text/plain": [
       "MLPClassifier(activation='relu', alpha=0.0001, batch_size='auto', beta_1=0.9,\n",
       "              beta_2=0.999, early_stopping=False, epsilon=1e-08,\n",
       "              hidden_layer_sizes=(100,), learning_rate='constant',\n",
       "              learning_rate_init=0.001, max_fun=15000, max_iter=1000,\n",
       "              momentum=0.9, n_iter_no_change=10, nesterovs_momentum=True,\n",
       "              power_t=0.5, random_state=0, shuffle=True, solver='adam',\n",
       "              tol=0.0001, validation_fraction=0.1, verbose=False,\n",
       "              warm_start=False)"
      ]
     },
     "execution_count": 25,
     "metadata": {},
     "output_type": "execute_result"
    }
   ],
   "source": [
    "mlp.fit(X_train, y_train)"
   ]
  },
  {
   "cell_type": "markdown",
   "id": "eff62c40-d043-4001-b6dc-34dbb7550676",
   "metadata": {},
   "source": [
    "Now, compute the accuracy of the model on our testing data (using `score()`):"
   ]
  },
  {
   "cell_type": "code",
   "execution_count": 27,
   "id": "3875b537-f93a-469e-905c-1c7e615d3567",
   "metadata": {},
   "outputs": [
    {
     "data": {
      "text/plain": [
       "0.9736842105263158"
      ]
     },
     "execution_count": 27,
     "metadata": {},
     "output_type": "execute_result"
    }
   ],
   "source": [
    "mlp.score(X_test, y_test)"
   ]
  },
  {
   "cell_type": "markdown",
   "id": "865b20d6-bcac-4d10-8630-f60e68b4516a",
   "metadata": {},
   "source": [
    "Nice! Based on our accuracy on the testing data, our neural network can correctly classify new data points with over 97% accuracy! "
   ]
  },
  {
   "cell_type": "code",
   "execution_count": null,
   "id": "f0827380-0ba7-460e-a37c-dedb31cfa34c",
   "metadata": {},
   "outputs": [],
   "source": []
  }
 ],
 "metadata": {
  "kernelspec": {
   "display_name": "Python [conda env:ml] *",
   "language": "python",
   "name": "conda-env-ml-py"
  },
  "language_info": {
   "codemirror_mode": {
    "name": "ipython",
    "version": 3
   },
   "file_extension": ".py",
   "mimetype": "text/x-python",
   "name": "python",
   "nbconvert_exporter": "python",
   "pygments_lexer": "ipython3",
   "version": "3.8.15"
  }
 },
 "nbformat": 4,
 "nbformat_minor": 5
}

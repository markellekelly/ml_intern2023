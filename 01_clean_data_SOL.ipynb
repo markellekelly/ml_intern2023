{
 "cells": [
  {
   "cell_type": "code",
   "execution_count": 1,
   "id": "bfb35492-3a1a-4d29-ac34-c41ea52b6eec",
   "metadata": {},
   "outputs": [],
   "source": [
    "import pandas as pd\n",
    "import matplotlib.pyplot as plt"
   ]
  },
  {
   "cell_type": "markdown",
   "id": "f3c09fdc-4626-476d-b5ac-4ded51363204",
   "metadata": {},
   "source": [
    "Unfortunately, data files don't always come ready to go; sometimes, a dataset must be processed to prepare it for analysis. This is called *data cleaning*. In this notebook, you'll practice data cleaning using an (artificially) messy version of the Iris dataset. First, we'll read in the file and take a look."
   ]
  },
  {
   "cell_type": "code",
   "execution_count": 2,
   "id": "e1da7308-0137-4dc7-8e28-d5e8faeb48fb",
   "metadata": {},
   "outputs": [],
   "source": [
    "df1 = pd.read_csv('data/iris-messy1.csv')"
   ]
  },
  {
   "cell_type": "code",
   "execution_count": 3,
   "id": "361c474c-4a45-4b46-8bae-b7435c7314ac",
   "metadata": {},
   "outputs": [
    {
     "data": {
      "text/html": [
       "<div>\n",
       "<style scoped>\n",
       "    .dataframe tbody tr th:only-of-type {\n",
       "        vertical-align: middle;\n",
       "    }\n",
       "\n",
       "    .dataframe tbody tr th {\n",
       "        vertical-align: top;\n",
       "    }\n",
       "\n",
       "    .dataframe thead th {\n",
       "        text-align: right;\n",
       "    }\n",
       "</style>\n",
       "<table border=\"1\" class=\"dataframe\">\n",
       "  <thead>\n",
       "    <tr style=\"text-align: right;\">\n",
       "      <th></th>\n",
       "      <th>sepal_length</th>\n",
       "      <th>sepal_width</th>\n",
       "      <th>petal_length</th>\n",
       "      <th>petal_width</th>\n",
       "      <th>class</th>\n",
       "    </tr>\n",
       "  </thead>\n",
       "  <tbody>\n",
       "    <tr>\n",
       "      <th>0</th>\n",
       "      <td>5.1 inches</td>\n",
       "      <td>3.5</td>\n",
       "      <td>1.4</td>\n",
       "      <td>0.2</td>\n",
       "      <td>Iris-setosa</td>\n",
       "    </tr>\n",
       "    <tr>\n",
       "      <th>1</th>\n",
       "      <td>4.9 inches</td>\n",
       "      <td>3.0</td>\n",
       "      <td>1.4</td>\n",
       "      <td>0.2</td>\n",
       "      <td>Iris-setosa</td>\n",
       "    </tr>\n",
       "    <tr>\n",
       "      <th>2</th>\n",
       "      <td>4.7 inches</td>\n",
       "      <td>3.2</td>\n",
       "      <td>1.3</td>\n",
       "      <td>0.2</td>\n",
       "      <td>Iris-setosa</td>\n",
       "    </tr>\n",
       "    <tr>\n",
       "      <th>3</th>\n",
       "      <td>4.6 inches</td>\n",
       "      <td>3.1</td>\n",
       "      <td>1.5</td>\n",
       "      <td>0.2</td>\n",
       "      <td>Iris-setosa</td>\n",
       "    </tr>\n",
       "    <tr>\n",
       "      <th>4</th>\n",
       "      <td>5.0 inches</td>\n",
       "      <td>3.6</td>\n",
       "      <td>1.4</td>\n",
       "      <td>0.2</td>\n",
       "      <td>Iris-setosa</td>\n",
       "    </tr>\n",
       "  </tbody>\n",
       "</table>\n",
       "</div>"
      ],
      "text/plain": [
       "  sepal_length  sepal_width  petal_length  petal_width        class\n",
       "0   5.1 inches          3.5           1.4          0.2  Iris-setosa\n",
       "1   4.9 inches          3.0           1.4          0.2  Iris-setosa\n",
       "2   4.7 inches          3.2           1.3          0.2  Iris-setosa\n",
       "3   4.6 inches          3.1           1.5          0.2  Iris-setosa\n",
       "4   5.0 inches          3.6           1.4          0.2  Iris-setosa"
      ]
     },
     "execution_count": 3,
     "metadata": {},
     "output_type": "execute_result"
    }
   ],
   "source": [
    "df1.head()"
   ]
  },
  {
   "cell_type": "markdown",
   "id": "75b07c25-c9a4-4811-8112-51781b9d1ddf",
   "metadata": {},
   "source": [
    "## Part 1: Manipulating column values"
   ]
  },
  {
   "cell_type": "markdown",
   "id": "c84c9602-5d92-4694-91ca-90d6a82093c8",
   "metadata": {},
   "source": [
    "In the preview, something looks wrong with the first column of the dataset—the values include the string \"inches\"! Because of this, we can't treat this column as a numeric value. To fix this, we can edit the column using the [apply()](https://pandas.pydata.org/docs/reference/api/pandas.DataFrame.apply.html) method, which will apply a function to each value in that column."
   ]
  },
  {
   "cell_type": "code",
   "execution_count": 4,
   "id": "76c2f4ba-3f57-4760-af2a-7424c1a1dc4f",
   "metadata": {},
   "outputs": [
    {
     "data": {
      "text/plain": [
       "0     5.1 inches\n",
       "1     4.9 inches\n",
       "2     4.7 inches\n",
       "3     4.6 inches\n",
       "4     5.0 inches\n",
       "         ...    \n",
       "95    5.7 inches\n",
       "96    5.7 inches\n",
       "97    6.2 inches\n",
       "98    5.1 inches\n",
       "99    5.7 inches\n",
       "Name: sepal_length, Length: 100, dtype: object"
      ]
     },
     "execution_count": 4,
     "metadata": {},
     "output_type": "execute_result"
    }
   ],
   "source": [
    "df1['sepal_length'] # the syntax df['column_name'] returns that column of the dataframe"
   ]
  },
  {
   "cell_type": "markdown",
   "id": "e6321062-30a9-45c1-933d-566479dbecb0",
   "metadata": {},
   "source": [
    "We can pass a *lambda function* to the apply method. A lambda function uses the syntax `lambda x: return_val`, where x is the input argument and return_val is what's returned. For example, `lambda x: x+5` will return the input value + 5."
   ]
  },
  {
   "cell_type": "code",
   "execution_count": 5,
   "id": "ff6a416e-761e-49eb-9381-1cd0450f3792",
   "metadata": {},
   "outputs": [
    {
     "data": {
      "text/plain": [
       "0     5.1\n",
       "1     4.9\n",
       "2     4.7\n",
       "3     4.6\n",
       "4     5.0\n",
       "     ... \n",
       "95    5.7\n",
       "96    5.7\n",
       "97    6.2\n",
       "98    5.1\n",
       "99    5.7\n",
       "Name: sepal_length, Length: 100, dtype: object"
      ]
     },
     "execution_count": 5,
     "metadata": {},
     "output_type": "execute_result"
    }
   ],
   "source": [
    "processed_col = df1['sepal_length'].apply(lambda x: x.replace(\" inches\",\"\")) # remove the \"inches\" text\n",
    "processed_col"
   ]
  },
  {
   "cell_type": "markdown",
   "id": "db8c4476-95a1-452e-be81-ca49f212618e",
   "metadata": {},
   "source": [
    "By `apply`ing our lambda function to the sepal_length column, we get a new column. Each value from the original column is passed to the lambda function, and the output goes in the new column."
   ]
  },
  {
   "cell_type": "markdown",
   "id": "482abef0-709e-4c6d-9596-0524766e00ed",
   "metadata": {},
   "source": [
    "However, we aren't quite done fixing this column yet. Although those values *look* like numbers, the data type in the dataframe is object (see the `dtype: object` at the bottom of the printout)—for now, you can think of this as a string. Eventually, we want to use these values in quantitative analysis, so let's convert them to [floats](https://www.w3schools.com/python/ref_func_float.asp), a numeric data type, using the apply method again."
   ]
  },
  {
   "cell_type": "code",
   "execution_count": 6,
   "id": "0b8b0f0e-992f-48ae-8e6a-ed3a327faf40",
   "metadata": {},
   "outputs": [
    {
     "data": {
      "text/plain": [
       "0     5.1\n",
       "1     4.9\n",
       "2     4.7\n",
       "3     4.6\n",
       "4     5.0\n",
       "     ... \n",
       "95    5.7\n",
       "96    5.7\n",
       "97    6.2\n",
       "98    5.1\n",
       "99    5.7\n",
       "Name: sepal_length, Length: 100, dtype: float64"
      ]
     },
     "execution_count": 6,
     "metadata": {},
     "output_type": "execute_result"
    }
   ],
   "source": [
    "# TODO: use the float() function to convert x to a numeric type\n",
    "float_col = processed_col.apply(float) \n",
    "float_col"
   ]
  },
  {
   "cell_type": "markdown",
   "id": "daa1ec59-dad8-4b63-8597-678cdfcb2cfc",
   "metadata": {},
   "source": [
    "Now your column should have `dtype: float64`. Great—let's put these cleaned values back into our dataframe. We can do this with the same `df[column_name]` syntax we used earlier:"
   ]
  },
  {
   "cell_type": "code",
   "execution_count": 7,
   "id": "d1af6d82-5ccf-4d94-a2f5-3a2935374368",
   "metadata": {},
   "outputs": [],
   "source": [
    "df1['sepal_length'] = float_col"
   ]
  },
  {
   "cell_type": "code",
   "execution_count": 8,
   "id": "b0439c16-3a70-4d45-9a1c-7c8939d6d4c6",
   "metadata": {},
   "outputs": [
    {
     "data": {
      "text/html": [
       "<div>\n",
       "<style scoped>\n",
       "    .dataframe tbody tr th:only-of-type {\n",
       "        vertical-align: middle;\n",
       "    }\n",
       "\n",
       "    .dataframe tbody tr th {\n",
       "        vertical-align: top;\n",
       "    }\n",
       "\n",
       "    .dataframe thead th {\n",
       "        text-align: right;\n",
       "    }\n",
       "</style>\n",
       "<table border=\"1\" class=\"dataframe\">\n",
       "  <thead>\n",
       "    <tr style=\"text-align: right;\">\n",
       "      <th></th>\n",
       "      <th>sepal_length</th>\n",
       "      <th>sepal_width</th>\n",
       "      <th>petal_length</th>\n",
       "      <th>petal_width</th>\n",
       "      <th>class</th>\n",
       "    </tr>\n",
       "  </thead>\n",
       "  <tbody>\n",
       "    <tr>\n",
       "      <th>0</th>\n",
       "      <td>5.1</td>\n",
       "      <td>3.5</td>\n",
       "      <td>1.4</td>\n",
       "      <td>0.2</td>\n",
       "      <td>Iris-setosa</td>\n",
       "    </tr>\n",
       "    <tr>\n",
       "      <th>1</th>\n",
       "      <td>4.9</td>\n",
       "      <td>3.0</td>\n",
       "      <td>1.4</td>\n",
       "      <td>0.2</td>\n",
       "      <td>Iris-setosa</td>\n",
       "    </tr>\n",
       "    <tr>\n",
       "      <th>2</th>\n",
       "      <td>4.7</td>\n",
       "      <td>3.2</td>\n",
       "      <td>1.3</td>\n",
       "      <td>0.2</td>\n",
       "      <td>Iris-setosa</td>\n",
       "    </tr>\n",
       "    <tr>\n",
       "      <th>3</th>\n",
       "      <td>4.6</td>\n",
       "      <td>3.1</td>\n",
       "      <td>1.5</td>\n",
       "      <td>0.2</td>\n",
       "      <td>Iris-setosa</td>\n",
       "    </tr>\n",
       "    <tr>\n",
       "      <th>4</th>\n",
       "      <td>5.0</td>\n",
       "      <td>3.6</td>\n",
       "      <td>1.4</td>\n",
       "      <td>0.2</td>\n",
       "      <td>Iris-setosa</td>\n",
       "    </tr>\n",
       "  </tbody>\n",
       "</table>\n",
       "</div>"
      ],
      "text/plain": [
       "   sepal_length  sepal_width  petal_length  petal_width        class\n",
       "0           5.1          3.5           1.4          0.2  Iris-setosa\n",
       "1           4.9          3.0           1.4          0.2  Iris-setosa\n",
       "2           4.7          3.2           1.3          0.2  Iris-setosa\n",
       "3           4.6          3.1           1.5          0.2  Iris-setosa\n",
       "4           5.0          3.6           1.4          0.2  Iris-setosa"
      ]
     },
     "execution_count": 8,
     "metadata": {},
     "output_type": "execute_result"
    }
   ],
   "source": [
    "# TODO: take a look at the dataframe to make sure your new column looks good!\n",
    "df1.head()"
   ]
  },
  {
   "cell_type": "markdown",
   "id": "532f22c2-698a-47fe-93c2-39bf648eda37",
   "metadata": {},
   "source": [
    "## Part 2: Manipulating multiple columns"
   ]
  },
  {
   "cell_type": "markdown",
   "id": "844f043b-f3ef-4418-b34e-9897e1ec0f75",
   "metadata": {},
   "source": [
    "We actually asked two different scientists to go measure iris flowers for us. We've just looked at the measurements from the first scientist in part 1; now, let's take a look at the data from the second scientist."
   ]
  },
  {
   "cell_type": "code",
   "execution_count": 9,
   "id": "ea1c1f79-330b-4148-b416-ca138935bcce",
   "metadata": {},
   "outputs": [],
   "source": [
    "df2 = pd.read_csv('data/iris-messy2.csv')"
   ]
  },
  {
   "cell_type": "code",
   "execution_count": 10,
   "id": "b5a67f64-f2a1-4744-bc5c-da39bcaf8e80",
   "metadata": {},
   "outputs": [
    {
     "data": {
      "text/html": [
       "<div>\n",
       "<style scoped>\n",
       "    .dataframe tbody tr th:only-of-type {\n",
       "        vertical-align: middle;\n",
       "    }\n",
       "\n",
       "    .dataframe tbody tr th {\n",
       "        vertical-align: top;\n",
       "    }\n",
       "\n",
       "    .dataframe thead th {\n",
       "        text-align: right;\n",
       "    }\n",
       "</style>\n",
       "<table border=\"1\" class=\"dataframe\">\n",
       "  <thead>\n",
       "    <tr style=\"text-align: right;\">\n",
       "      <th></th>\n",
       "      <th>sepal_length</th>\n",
       "      <th>sepal_width</th>\n",
       "      <th>petal_length</th>\n",
       "      <th>petal_width</th>\n",
       "      <th>class</th>\n",
       "    </tr>\n",
       "  </thead>\n",
       "  <tbody>\n",
       "    <tr>\n",
       "      <th>0</th>\n",
       "      <td>16.002</td>\n",
       "      <td>8.382</td>\n",
       "      <td>15.240</td>\n",
       "      <td>6.350</td>\n",
       "      <td>Iris-virginica</td>\n",
       "    </tr>\n",
       "    <tr>\n",
       "      <th>1</th>\n",
       "      <td>14.732</td>\n",
       "      <td>6.858</td>\n",
       "      <td>12.954</td>\n",
       "      <td>4.826</td>\n",
       "      <td>Iris-virginica</td>\n",
       "    </tr>\n",
       "    <tr>\n",
       "      <th>2</th>\n",
       "      <td>18.034</td>\n",
       "      <td>7.620</td>\n",
       "      <td>14.986</td>\n",
       "      <td>5.334</td>\n",
       "      <td>Iris-virginica</td>\n",
       "    </tr>\n",
       "    <tr>\n",
       "      <th>3</th>\n",
       "      <td>16.002</td>\n",
       "      <td>7.366</td>\n",
       "      <td>14.224</td>\n",
       "      <td>4.572</td>\n",
       "      <td>Iris-virginica</td>\n",
       "    </tr>\n",
       "    <tr>\n",
       "      <th>4</th>\n",
       "      <td>16.510</td>\n",
       "      <td>7.620</td>\n",
       "      <td>14.732</td>\n",
       "      <td>5.588</td>\n",
       "      <td>Iris-virginica</td>\n",
       "    </tr>\n",
       "  </tbody>\n",
       "</table>\n",
       "</div>"
      ],
      "text/plain": [
       "   sepal_length  sepal_width  petal_length  petal_width           class\n",
       "0        16.002        8.382        15.240        6.350  Iris-virginica\n",
       "1        14.732        6.858        12.954        4.826  Iris-virginica\n",
       "2        18.034        7.620        14.986        5.334  Iris-virginica\n",
       "3        16.002        7.366        14.224        4.572  Iris-virginica\n",
       "4        16.510        7.620        14.732        5.588  Iris-virginica"
      ]
     },
     "execution_count": 10,
     "metadata": {},
     "output_type": "execute_result"
    }
   ],
   "source": [
    "df2.head()"
   ]
  },
  {
   "cell_type": "markdown",
   "id": "3a4c69c9-d783-4c35-bbb6-559531e93baf",
   "metadata": {},
   "source": [
    "Oh no, I forgot! The second scientist is from Europe—they must have taken the measurements in *centimeters*! We'll need to convert these measurements to inches so the data can be combined with the first dataset. We'll need to divide all four of the variable columns by the conversion factor (`2.54`). (Note: you can actually do this in pandas with `df['column_name']/2.54`, but we'll use the `apply` method with a lambda function to practice it one more time.)"
   ]
  },
  {
   "cell_type": "code",
   "execution_count": 11,
   "id": "b73f30b0-43a8-41ed-8f02-950f6b2bc0ee",
   "metadata": {},
   "outputs": [
    {
     "data": {
      "text/html": [
       "<div>\n",
       "<style scoped>\n",
       "    .dataframe tbody tr th:only-of-type {\n",
       "        vertical-align: middle;\n",
       "    }\n",
       "\n",
       "    .dataframe tbody tr th {\n",
       "        vertical-align: top;\n",
       "    }\n",
       "\n",
       "    .dataframe thead th {\n",
       "        text-align: right;\n",
       "    }\n",
       "</style>\n",
       "<table border=\"1\" class=\"dataframe\">\n",
       "  <thead>\n",
       "    <tr style=\"text-align: right;\">\n",
       "      <th></th>\n",
       "      <th>sepal_length</th>\n",
       "      <th>sepal_width</th>\n",
       "      <th>petal_length</th>\n",
       "      <th>petal_width</th>\n",
       "    </tr>\n",
       "  </thead>\n",
       "  <tbody>\n",
       "    <tr>\n",
       "      <th>0</th>\n",
       "      <td>16.002</td>\n",
       "      <td>8.382</td>\n",
       "      <td>15.240</td>\n",
       "      <td>6.350</td>\n",
       "    </tr>\n",
       "    <tr>\n",
       "      <th>1</th>\n",
       "      <td>14.732</td>\n",
       "      <td>6.858</td>\n",
       "      <td>12.954</td>\n",
       "      <td>4.826</td>\n",
       "    </tr>\n",
       "    <tr>\n",
       "      <th>2</th>\n",
       "      <td>18.034</td>\n",
       "      <td>7.620</td>\n",
       "      <td>14.986</td>\n",
       "      <td>5.334</td>\n",
       "    </tr>\n",
       "    <tr>\n",
       "      <th>3</th>\n",
       "      <td>16.002</td>\n",
       "      <td>7.366</td>\n",
       "      <td>14.224</td>\n",
       "      <td>4.572</td>\n",
       "    </tr>\n",
       "    <tr>\n",
       "      <th>4</th>\n",
       "      <td>16.510</td>\n",
       "      <td>7.620</td>\n",
       "      <td>14.732</td>\n",
       "      <td>5.588</td>\n",
       "    </tr>\n",
       "  </tbody>\n",
       "</table>\n",
       "</div>"
      ],
      "text/plain": [
       "   sepal_length  sepal_width  petal_length  petal_width\n",
       "0        16.002        8.382        15.240        6.350\n",
       "1        14.732        6.858        12.954        4.826\n",
       "2        18.034        7.620        14.986        5.334\n",
       "3        16.002        7.366        14.224        4.572\n",
       "4        16.510        7.620        14.732        5.588"
      ]
     },
     "execution_count": 11,
     "metadata": {},
     "output_type": "execute_result"
    }
   ],
   "source": [
    "# select multiple columns of a pandas dataframe using df[list_of_column_names]\n",
    "feature_columns = ['sepal_length','sepal_width','petal_length','petal_width']\n",
    "df2[feature_columns].head()"
   ]
  },
  {
   "cell_type": "code",
   "execution_count": 12,
   "id": "468d2a68-9b3d-4bae-852d-f6481cf2bea1",
   "metadata": {},
   "outputs": [
    {
     "data": {
      "text/html": [
       "<div>\n",
       "<style scoped>\n",
       "    .dataframe tbody tr th:only-of-type {\n",
       "        vertical-align: middle;\n",
       "    }\n",
       "\n",
       "    .dataframe tbody tr th {\n",
       "        vertical-align: top;\n",
       "    }\n",
       "\n",
       "    .dataframe thead th {\n",
       "        text-align: right;\n",
       "    }\n",
       "</style>\n",
       "<table border=\"1\" class=\"dataframe\">\n",
       "  <thead>\n",
       "    <tr style=\"text-align: right;\">\n",
       "      <th></th>\n",
       "      <th>sepal_length</th>\n",
       "      <th>sepal_width</th>\n",
       "      <th>petal_length</th>\n",
       "      <th>petal_width</th>\n",
       "    </tr>\n",
       "  </thead>\n",
       "  <tbody>\n",
       "    <tr>\n",
       "      <th>0</th>\n",
       "      <td>6.3</td>\n",
       "      <td>3.3</td>\n",
       "      <td>6.0</td>\n",
       "      <td>2.5</td>\n",
       "    </tr>\n",
       "    <tr>\n",
       "      <th>1</th>\n",
       "      <td>5.8</td>\n",
       "      <td>2.7</td>\n",
       "      <td>5.1</td>\n",
       "      <td>1.9</td>\n",
       "    </tr>\n",
       "    <tr>\n",
       "      <th>2</th>\n",
       "      <td>7.1</td>\n",
       "      <td>3.0</td>\n",
       "      <td>5.9</td>\n",
       "      <td>2.1</td>\n",
       "    </tr>\n",
       "    <tr>\n",
       "      <th>3</th>\n",
       "      <td>6.3</td>\n",
       "      <td>2.9</td>\n",
       "      <td>5.6</td>\n",
       "      <td>1.8</td>\n",
       "    </tr>\n",
       "    <tr>\n",
       "      <th>4</th>\n",
       "      <td>6.5</td>\n",
       "      <td>3.0</td>\n",
       "      <td>5.8</td>\n",
       "      <td>2.2</td>\n",
       "    </tr>\n",
       "  </tbody>\n",
       "</table>\n",
       "</div>"
      ],
      "text/plain": [
       "   sepal_length  sepal_width  petal_length  petal_width\n",
       "0           6.3          3.3           6.0          2.5\n",
       "1           5.8          2.7           5.1          1.9\n",
       "2           7.1          3.0           5.9          2.1\n",
       "3           6.3          2.9           5.6          1.8\n",
       "4           6.5          3.0           5.8          2.2"
      ]
     },
     "execution_count": 12,
     "metadata": {},
     "output_type": "execute_result"
    }
   ],
   "source": [
    "# TODO: use the apply function to divide the four feature_columns by 2.54\n",
    "inches_vals = df2[feature_columns].apply(lambda x: x/2.54)\n",
    "inches_vals.head()"
   ]
  },
  {
   "cell_type": "markdown",
   "id": "a024688b-b209-4f70-bec4-26f25be55124",
   "metadata": {},
   "source": [
    "Great! Now that we have the values in inches, let's change the values in our dataframe. "
   ]
  },
  {
   "cell_type": "code",
   "execution_count": 13,
   "id": "22ff8d86-4ff8-4207-9f7d-6487fc0e4551",
   "metadata": {},
   "outputs": [],
   "source": [
    "# we can set multiple columns of the dataframe using the same syntax as above\n",
    "df2[feature_columns] = inches_vals"
   ]
  },
  {
   "cell_type": "code",
   "execution_count": 14,
   "id": "de8abcff-5052-436c-8620-08e73c699e8f",
   "metadata": {},
   "outputs": [
    {
     "data": {
      "text/html": [
       "<div>\n",
       "<style scoped>\n",
       "    .dataframe tbody tr th:only-of-type {\n",
       "        vertical-align: middle;\n",
       "    }\n",
       "\n",
       "    .dataframe tbody tr th {\n",
       "        vertical-align: top;\n",
       "    }\n",
       "\n",
       "    .dataframe thead th {\n",
       "        text-align: right;\n",
       "    }\n",
       "</style>\n",
       "<table border=\"1\" class=\"dataframe\">\n",
       "  <thead>\n",
       "    <tr style=\"text-align: right;\">\n",
       "      <th></th>\n",
       "      <th>sepal_length</th>\n",
       "      <th>sepal_width</th>\n",
       "      <th>petal_length</th>\n",
       "      <th>petal_width</th>\n",
       "      <th>class</th>\n",
       "    </tr>\n",
       "  </thead>\n",
       "  <tbody>\n",
       "    <tr>\n",
       "      <th>0</th>\n",
       "      <td>6.3</td>\n",
       "      <td>3.3</td>\n",
       "      <td>6.0</td>\n",
       "      <td>2.5</td>\n",
       "      <td>Iris-virginica</td>\n",
       "    </tr>\n",
       "    <tr>\n",
       "      <th>1</th>\n",
       "      <td>5.8</td>\n",
       "      <td>2.7</td>\n",
       "      <td>5.1</td>\n",
       "      <td>1.9</td>\n",
       "      <td>Iris-virginica</td>\n",
       "    </tr>\n",
       "    <tr>\n",
       "      <th>2</th>\n",
       "      <td>7.1</td>\n",
       "      <td>3.0</td>\n",
       "      <td>5.9</td>\n",
       "      <td>2.1</td>\n",
       "      <td>Iris-virginica</td>\n",
       "    </tr>\n",
       "    <tr>\n",
       "      <th>3</th>\n",
       "      <td>6.3</td>\n",
       "      <td>2.9</td>\n",
       "      <td>5.6</td>\n",
       "      <td>1.8</td>\n",
       "      <td>Iris-virginica</td>\n",
       "    </tr>\n",
       "    <tr>\n",
       "      <th>4</th>\n",
       "      <td>6.5</td>\n",
       "      <td>3.0</td>\n",
       "      <td>5.8</td>\n",
       "      <td>2.2</td>\n",
       "      <td>Iris-virginica</td>\n",
       "    </tr>\n",
       "  </tbody>\n",
       "</table>\n",
       "</div>"
      ],
      "text/plain": [
       "   sepal_length  sepal_width  petal_length  petal_width           class\n",
       "0           6.3          3.3           6.0          2.5  Iris-virginica\n",
       "1           5.8          2.7           5.1          1.9  Iris-virginica\n",
       "2           7.1          3.0           5.9          2.1  Iris-virginica\n",
       "3           6.3          2.9           5.6          1.8  Iris-virginica\n",
       "4           6.5          3.0           5.8          2.2  Iris-virginica"
      ]
     },
     "execution_count": 14,
     "metadata": {},
     "output_type": "execute_result"
    }
   ],
   "source": [
    "# TODO: take a look at the dataframe to make sure it has the values in inches\n",
    "df2.head()"
   ]
  },
  {
   "cell_type": "markdown",
   "id": "7906125f-e390-471a-9adf-531263475b98",
   "metadata": {},
   "source": [
    "## Part 3: Combining two DataFrames"
   ]
  },
  {
   "cell_type": "markdown",
   "id": "4a5494d7-71b6-43ac-83af-ca5cb7cd82a0",
   "metadata": {},
   "source": [
    "Now that `df1` and `df2` are both using inches, let's combine them into a single dataframe. To do this, we'll need to use the pandas [concat](https://pandas.pydata.org/docs/reference/api/pandas.concat.html) function, which joins together multiple dataframes. First, let's check the shape of both dataframes."
   ]
  },
  {
   "cell_type": "code",
   "execution_count": 15,
   "id": "e059a998-f850-486e-b95b-fcf494b7a5e4",
   "metadata": {},
   "outputs": [
    {
     "data": {
      "text/plain": [
       "(100, 5)"
      ]
     },
     "execution_count": 15,
     "metadata": {},
     "output_type": "execute_result"
    }
   ],
   "source": [
    "df1.shape"
   ]
  },
  {
   "cell_type": "code",
   "execution_count": 16,
   "id": "5216f0f5-9ff0-4350-943f-0a50c4c5d96a",
   "metadata": {},
   "outputs": [
    {
     "data": {
      "text/plain": [
       "(50, 5)"
      ]
     },
     "execution_count": 16,
     "metadata": {},
     "output_type": "execute_result"
    }
   ],
   "source": [
    "df2.shape"
   ]
  },
  {
   "cell_type": "markdown",
   "id": "f3e865c3-5d7f-417d-aefe-fa853530e23c",
   "metadata": {},
   "source": [
    "It looks like the first scientist collected samples of 100 flowers (i.e., there are 100 rows in `df1`) and the second scientist measured 50 flowers (i.e., there are 50 rows in `df2`). Both dataframes have 5 columns (and we saw in the previous sections that those columns are in the same order, with the same names) so they should be easy to combine! Our new dataset should have information about all 150 flowers, with the same columns, so we are expecting its shape to be `(150, 5)`."
   ]
  },
  {
   "cell_type": "code",
   "execution_count": 17,
   "id": "c5d0d512-cb56-49cf-adc3-8249b37456c7",
   "metadata": {},
   "outputs": [],
   "source": [
    "dfs = [df1, df2] # TODO: create a list containing df1 and df2\n",
    "df = pd.concat(dfs)"
   ]
  },
  {
   "cell_type": "code",
   "execution_count": 18,
   "id": "30c79822-ea6f-4c7b-ac69-699d6abac385",
   "metadata": {},
   "outputs": [
    {
     "data": {
      "text/plain": [
       "(150, 5)"
      ]
     },
     "execution_count": 18,
     "metadata": {},
     "output_type": "execute_result"
    }
   ],
   "source": [
    "df.shape # TODO: check if the shape of the combined dataframe is what we expected"
   ]
  },
  {
   "cell_type": "markdown",
   "id": "3bbe3f9e-3837-43ed-8921-8fef208b054d",
   "metadata": {},
   "source": [
    "Perfect! We now have created a single dataframe object that stores the data from both scientists. We'll reset the index (numbers displayed on the very left side of the dataframe) so we don't have, for example, two rows labeled #1. "
   ]
  },
  {
   "cell_type": "code",
   "execution_count": 19,
   "id": "ea1ba551-e9bd-4136-ab3f-91d4e7eab940",
   "metadata": {},
   "outputs": [],
   "source": [
    "df = df.reset_index(drop=True)"
   ]
  },
  {
   "cell_type": "markdown",
   "id": "973a0a53-2357-4900-a3a8-19e9c3bd03ed",
   "metadata": {},
   "source": [
    "## Part 4: Checking data quality"
   ]
  },
  {
   "cell_type": "markdown",
   "id": "aac7f3a1-0d38-4531-9cc1-e1ee5820a83f",
   "metadata": {},
   "source": [
    "Before this dataset is ready to go, let's do some final checks to make sure our data are clean."
   ]
  },
  {
   "cell_type": "markdown",
   "id": "1919761f-8f0f-4cfc-b4d3-aadd7a0b3f0d",
   "metadata": {},
   "source": [
    "To investigate a numerical variable, one tool we can use is a plot called a *histogram*. This type of graph visualizes what values the variable takes on. Let's look at a histogram for sepal length:"
   ]
  },
  {
   "cell_type": "code",
   "execution_count": 20,
   "id": "9b0b94c3-2ac7-4baa-ab25-c41a276ac964",
   "metadata": {},
   "outputs": [
    {
     "data": {
      "image/png": "[encoded data removed]",
      "text/plain": [
       "<Figure size 640x480 with 1 Axes>"
      ]
     },
     "metadata": {},
     "output_type": "display_data"
    }
   ],
   "source": [
    "df.hist(column='sepal_length', bins=40)\n",
    "plt.show()"
   ]
  },
  {
   "cell_type": "markdown",
   "id": "df2e4b81-db30-49d8-81ac-0204f1f0e4fe",
   "metadata": {},
   "source": [
    "Here, the x axis represents the sepal length value, and the y axis counts how many rows have a sepal length at that value. It looks like most of the rows of our dataframe have a sepal length between about 5 and 8 inches. However, there is one *outlier*—a point that doesn't look like the rest. This flower has a sepal length of over 50 inches, which sounds pretty unrealistic."
   ]
  },
  {
   "cell_type": "markdown",
   "id": "405df6dc-1875-4d33-b3a3-6810b20ec1ae",
   "metadata": {},
   "source": [
    "Let's see if we can take a closer look at that outlier. We can use the [sort_values](https://pandas.pydata.org/docs/reference/api/pandas.DataFrame.sort_values.html) method on our dataframe to sort the data by a particular column. We'll sort it in descending order (with the argument `ascending=False`) so that the largest values are first."
   ]
  },
  {
   "cell_type": "code",
   "execution_count": 21,
   "id": "5d144c49-184f-4966-a4fa-94559f51b029",
   "metadata": {},
   "outputs": [
    {
     "data": {
      "text/html": [
       "<div>\n",
       "<style scoped>\n",
       "    .dataframe tbody tr th:only-of-type {\n",
       "        vertical-align: middle;\n",
       "    }\n",
       "\n",
       "    .dataframe tbody tr th {\n",
       "        vertical-align: top;\n",
       "    }\n",
       "\n",
       "    .dataframe thead th {\n",
       "        text-align: right;\n",
       "    }\n",
       "</style>\n",
       "<table border=\"1\" class=\"dataframe\">\n",
       "  <thead>\n",
       "    <tr style=\"text-align: right;\">\n",
       "      <th></th>\n",
       "      <th>sepal_length</th>\n",
       "      <th>sepal_width</th>\n",
       "      <th>petal_length</th>\n",
       "      <th>petal_width</th>\n",
       "      <th>class</th>\n",
       "    </tr>\n",
       "  </thead>\n",
       "  <tbody>\n",
       "    <tr>\n",
       "      <th>81</th>\n",
       "      <td>55.0</td>\n",
       "      <td>24.0</td>\n",
       "      <td>37.0</td>\n",
       "      <td>10.0</td>\n",
       "      <td>Iris-versicolor</td>\n",
       "    </tr>\n",
       "    <tr>\n",
       "      <th>131</th>\n",
       "      <td>7.9</td>\n",
       "      <td>3.8</td>\n",
       "      <td>6.4</td>\n",
       "      <td>2.0</td>\n",
       "      <td>Iris-virginica</td>\n",
       "    </tr>\n",
       "    <tr>\n",
       "      <th>135</th>\n",
       "      <td>7.7</td>\n",
       "      <td>3.0</td>\n",
       "      <td>6.1</td>\n",
       "      <td>2.3</td>\n",
       "      <td>Iris-virginica</td>\n",
       "    </tr>\n",
       "    <tr>\n",
       "      <th>117</th>\n",
       "      <td>7.7</td>\n",
       "      <td>3.8</td>\n",
       "      <td>6.7</td>\n",
       "      <td>2.2</td>\n",
       "      <td>Iris-virginica</td>\n",
       "    </tr>\n",
       "    <tr>\n",
       "      <th>118</th>\n",
       "      <td>7.7</td>\n",
       "      <td>2.6</td>\n",
       "      <td>6.9</td>\n",
       "      <td>2.3</td>\n",
       "      <td>Iris-virginica</td>\n",
       "    </tr>\n",
       "    <tr>\n",
       "      <th>...</th>\n",
       "      <td>...</td>\n",
       "      <td>...</td>\n",
       "      <td>...</td>\n",
       "      <td>...</td>\n",
       "      <td>...</td>\n",
       "    </tr>\n",
       "    <tr>\n",
       "      <th>41</th>\n",
       "      <td>4.5</td>\n",
       "      <td>2.3</td>\n",
       "      <td>1.3</td>\n",
       "      <td>0.3</td>\n",
       "      <td>Iris-setosa</td>\n",
       "    </tr>\n",
       "    <tr>\n",
       "      <th>38</th>\n",
       "      <td>4.4</td>\n",
       "      <td>3.0</td>\n",
       "      <td>1.3</td>\n",
       "      <td>0.2</td>\n",
       "      <td>Iris-setosa</td>\n",
       "    </tr>\n",
       "    <tr>\n",
       "      <th>8</th>\n",
       "      <td>4.4</td>\n",
       "      <td>2.9</td>\n",
       "      <td>1.4</td>\n",
       "      <td>0.2</td>\n",
       "      <td>Iris-setosa</td>\n",
       "    </tr>\n",
       "    <tr>\n",
       "      <th>42</th>\n",
       "      <td>4.4</td>\n",
       "      <td>3.2</td>\n",
       "      <td>1.3</td>\n",
       "      <td>0.2</td>\n",
       "      <td>Iris-setosa</td>\n",
       "    </tr>\n",
       "    <tr>\n",
       "      <th>13</th>\n",
       "      <td>4.3</td>\n",
       "      <td>3.0</td>\n",
       "      <td>1.1</td>\n",
       "      <td>0.1</td>\n",
       "      <td>Iris-setosa</td>\n",
       "    </tr>\n",
       "  </tbody>\n",
       "</table>\n",
       "<p>150 rows × 5 columns</p>\n",
       "</div>"
      ],
      "text/plain": [
       "     sepal_length  sepal_width  petal_length  petal_width            class\n",
       "81           55.0         24.0          37.0         10.0  Iris-versicolor\n",
       "131           7.9          3.8           6.4          2.0   Iris-virginica\n",
       "135           7.7          3.0           6.1          2.3   Iris-virginica\n",
       "117           7.7          3.8           6.7          2.2   Iris-virginica\n",
       "118           7.7          2.6           6.9          2.3   Iris-virginica\n",
       "..            ...          ...           ...          ...              ...\n",
       "41            4.5          2.3           1.3          0.3      Iris-setosa\n",
       "38            4.4          3.0           1.3          0.2      Iris-setosa\n",
       "8             4.4          2.9           1.4          0.2      Iris-setosa\n",
       "42            4.4          3.2           1.3          0.2      Iris-setosa\n",
       "13            4.3          3.0           1.1          0.1      Iris-setosa\n",
       "\n",
       "[150 rows x 5 columns]"
      ]
     },
     "execution_count": 21,
     "metadata": {},
     "output_type": "execute_result"
    }
   ],
   "source": [
    "var_name = \"sepal_length\" # TODO: enter the name of the column we want to sort by\n",
    "df.sort_values(by=var_name, ascending=False)"
   ]
  },
  {
   "cell_type": "markdown",
   "id": "69860afb-fcf5-4fa2-8902-c60d36b25e9a",
   "metadata": {},
   "source": [
    "Weird—it looks like this row has much higher values for all four numeric columns. Let's compute some summary statistics for each column for comparison."
   ]
  },
  {
   "cell_type": "code",
   "execution_count": 38,
   "id": "b9d52a94-724e-400e-8b60-7217013fc1fe",
   "metadata": {},
   "outputs": [
    {
     "data": {
      "text/html": [
       "<div>\n",
       "<style scoped>\n",
       "    .dataframe tbody tr th:only-of-type {\n",
       "        vertical-align: middle;\n",
       "    }\n",
       "\n",
       "    .dataframe tbody tr th {\n",
       "        vertical-align: top;\n",
       "    }\n",
       "\n",
       "    .dataframe thead th {\n",
       "        text-align: right;\n",
       "    }\n",
       "</style>\n",
       "<table border=\"1\" class=\"dataframe\">\n",
       "  <thead>\n",
       "    <tr style=\"text-align: right;\">\n",
       "      <th></th>\n",
       "      <th>sepal_length</th>\n",
       "      <th>sepal_width</th>\n",
       "      <th>petal_length</th>\n",
       "      <th>petal_width</th>\n",
       "    </tr>\n",
       "  </thead>\n",
       "  <tbody>\n",
       "    <tr>\n",
       "      <th>count</th>\n",
       "      <td>150.000000</td>\n",
       "      <td>150.000000</td>\n",
       "      <td>150.000000</td>\n",
       "      <td>150.000000</td>\n",
       "    </tr>\n",
       "    <tr>\n",
       "      <th>mean</th>\n",
       "      <td>6.479333</td>\n",
       "      <td>3.408000</td>\n",
       "      <td>4.064667</td>\n",
       "      <td>1.276667</td>\n",
       "    </tr>\n",
       "    <tr>\n",
       "      <th>std</th>\n",
       "      <td>5.493331</td>\n",
       "      <td>3.138707</td>\n",
       "      <td>3.331891</td>\n",
       "      <td>1.054642</td>\n",
       "    </tr>\n",
       "    <tr>\n",
       "      <th>min</th>\n",
       "      <td>4.300000</td>\n",
       "      <td>2.000000</td>\n",
       "      <td>1.000000</td>\n",
       "      <td>0.100000</td>\n",
       "    </tr>\n",
       "    <tr>\n",
       "      <th>25%</th>\n",
       "      <td>5.100000</td>\n",
       "      <td>2.800000</td>\n",
       "      <td>1.600000</td>\n",
       "      <td>0.300000</td>\n",
       "    </tr>\n",
       "    <tr>\n",
       "      <th>50%</th>\n",
       "      <td>5.800000</td>\n",
       "      <td>3.000000</td>\n",
       "      <td>4.400000</td>\n",
       "      <td>1.300000</td>\n",
       "    </tr>\n",
       "    <tr>\n",
       "      <th>75%</th>\n",
       "      <td>6.400000</td>\n",
       "      <td>3.300000</td>\n",
       "      <td>5.100000</td>\n",
       "      <td>1.800000</td>\n",
       "    </tr>\n",
       "    <tr>\n",
       "      <th>max</th>\n",
       "      <td>55.000000</td>\n",
       "      <td>35.000000</td>\n",
       "      <td>37.000000</td>\n",
       "      <td>10.000000</td>\n",
       "    </tr>\n",
       "  </tbody>\n",
       "</table>\n",
       "</div>"
      ],
      "text/plain": [
       "       sepal_length  sepal_width  petal_length  petal_width\n",
       "count    150.000000   150.000000    150.000000   150.000000\n",
       "mean       6.479333     3.408000      4.064667     1.276667\n",
       "std        5.493331     3.138707      3.331891     1.054642\n",
       "min        4.300000     2.000000      1.000000     0.100000\n",
       "25%        5.100000     2.800000      1.600000     0.300000\n",
       "50%        5.800000     3.000000      4.400000     1.300000\n",
       "75%        6.400000     3.300000      5.100000     1.800000\n",
       "max       55.000000    35.000000     37.000000    10.000000"
      ]
     },
     "execution_count": 38,
     "metadata": {},
     "output_type": "execute_result"
    }
   ],
   "source": [
    "# TODO: compute summary statistics of the numeric columns (hint: we've done this before!)\n",
    "df.describe()"
   ]
  },
  {
   "cell_type": "markdown",
   "id": "e817194a-2884-4b22-a1bc-880325765e07",
   "metadata": {},
   "source": [
    "In comparison to the mean and median (i.e., 50% quantile) of the data, our outlier is about 10 times as high! I called the scientist to investigate and they realized they'd accidentally left off the decimal points in that row (so 5.5 inches became 55, which pandas displays as 55.0)."
   ]
  },
  {
   "cell_type": "markdown",
   "id": "18243194-a391-4f04-8589-9f18e35efd1c",
   "metadata": {},
   "source": [
    "Looking again at the sorted dataframe, the outlier row is #81. We can use the pandas function [.loc](https://pandas.pydata.org/docs/reference/api/pandas.DataFrame.loc.html) to access specific rows and columns of the DataFrame."
   ]
  },
  {
   "cell_type": "code",
   "execution_count": 27,
   "id": "fb80c171-ec52-431a-807b-d41f0348206c",
   "metadata": {},
   "outputs": [
    {
     "data": {
      "text/plain": [
       "sepal_length               0.55\n",
       "sepal_width                0.24\n",
       "petal_length               0.37\n",
       "petal_width                 0.1\n",
       "class           Iris-versicolor\n",
       "Name: 81, dtype: object"
      ]
     },
     "execution_count": 27,
     "metadata": {},
     "output_type": "execute_result"
    }
   ],
   "source": [
    "df.loc[81] # access row 81"
   ]
  },
  {
   "cell_type": "code",
   "execution_count": 28,
   "id": "4569e2b9-811e-4893-a6bc-d26872036203",
   "metadata": {},
   "outputs": [
    {
     "data": {
      "text/plain": [
       "sepal_length    0.55\n",
       "sepal_width     0.24\n",
       "petal_length    0.37\n",
       "petal_width      0.1\n",
       "Name: 81, dtype: object"
      ]
     },
     "execution_count": 28,
     "metadata": {},
     "output_type": "execute_result"
    }
   ],
   "source": [
    "df.loc[81, feature_columns] # access row 81 and the numeric columns"
   ]
  },
  {
   "cell_type": "markdown",
   "id": "4ece2178-5e22-4f08-9777-5f71415dbf42",
   "metadata": {},
   "source": [
    "Based on what you've done in the previous sections, update the DataFrame with the corrected values."
   ]
  },
  {
   "cell_type": "code",
   "execution_count": 26,
   "id": "a259cecb-4c00-41a6-832e-2061f3c97cbc",
   "metadata": {},
   "outputs": [],
   "source": [
    "# TODO: divide the incorrect values by 10\n",
    "df.loc[81,feature_columns] = df.loc[81,feature_columns].apply(lambda x: x/10)"
   ]
  },
  {
   "cell_type": "markdown",
   "id": "0fea2990-4e16-4357-aab0-743fb43cfe92",
   "metadata": {},
   "source": [
    "In a real analysis, we'd want to look carefully at all four numeric features, but for now, let's move on to checking the class variable. This column of the dataset is a *categorical* variable, meaning it can be any value from some pre-defined set of categories (in this case, the three species of flower). We can check if the values in our DataFrame follow this rule using the pandas [unique()](https://pandas.pydata.org/docs/reference/api/pandas.unique.html) function. This function shows all of the different values (in this case, strings) that are present in a given column."
   ]
  },
  {
   "cell_type": "code",
   "execution_count": 29,
   "id": "eb6079e2-9a1d-4b79-92a9-82ac67308e1b",
   "metadata": {},
   "outputs": [
    {
     "data": {
      "text/plain": [
       "array(['Iris-setosa', 'Iris-versicolor', 'Iris-virginica', 'Virginica'],\n",
       "      dtype=object)"
      ]
     },
     "execution_count": 29,
     "metadata": {},
     "output_type": "execute_result"
    }
   ],
   "source": [
    "df['class'].unique()"
   ]
  },
  {
   "cell_type": "markdown",
   "id": "22d5ed76-e863-465c-aede-4fccdd9ff74f",
   "metadata": {},
   "source": [
    "Uh oh—it looks like we have four different values in this column instead of three. The shorter name \"Virginica\" was used somewhere, instead of the category name \"Iris-virginica\" that should be used."
   ]
  },
  {
   "cell_type": "markdown",
   "id": "0d1da346-6238-46f8-82c7-ecc91234ca04",
   "metadata": {},
   "source": [
    "Using what you've done so far, change the \"Virginica\" value to \"Iris-virginica\"."
   ]
  },
  {
   "cell_type": "code",
   "execution_count": null,
   "id": "edb800bb-a2fa-48bb-9bcd-8c2b3c284734",
   "metadata": {},
   "outputs": [],
   "source": [
    "# TODO: use sort_values to find the \"Virginica\" row (hint: sort_values sorts strings alphabetically)"
   ]
  },
  {
   "cell_type": "code",
   "execution_count": 30,
   "id": "baadd9fe-d372-4951-aef4-27b98ad49542",
   "metadata": {},
   "outputs": [
    {
     "data": {
      "text/html": [
       "<div>\n",
       "<style scoped>\n",
       "    .dataframe tbody tr th:only-of-type {\n",
       "        vertical-align: middle;\n",
       "    }\n",
       "\n",
       "    .dataframe tbody tr th {\n",
       "        vertical-align: top;\n",
       "    }\n",
       "\n",
       "    .dataframe thead th {\n",
       "        text-align: right;\n",
       "    }\n",
       "</style>\n",
       "<table border=\"1\" class=\"dataframe\">\n",
       "  <thead>\n",
       "    <tr style=\"text-align: right;\">\n",
       "      <th></th>\n",
       "      <th>sepal_length</th>\n",
       "      <th>sepal_width</th>\n",
       "      <th>petal_length</th>\n",
       "      <th>petal_width</th>\n",
       "      <th>class</th>\n",
       "    </tr>\n",
       "  </thead>\n",
       "  <tbody>\n",
       "    <tr>\n",
       "      <th>139</th>\n",
       "      <td>6.9</td>\n",
       "      <td>3.1</td>\n",
       "      <td>5.4</td>\n",
       "      <td>2.1</td>\n",
       "      <td>Virginica</td>\n",
       "    </tr>\n",
       "    <tr>\n",
       "      <th>149</th>\n",
       "      <td>5.9</td>\n",
       "      <td>3.0</td>\n",
       "      <td>5.1</td>\n",
       "      <td>1.8</td>\n",
       "      <td>Iris-virginica</td>\n",
       "    </tr>\n",
       "    <tr>\n",
       "      <th>111</th>\n",
       "      <td>6.4</td>\n",
       "      <td>2.7</td>\n",
       "      <td>5.3</td>\n",
       "      <td>1.9</td>\n",
       "      <td>Iris-virginica</td>\n",
       "    </tr>\n",
       "    <tr>\n",
       "      <th>122</th>\n",
       "      <td>7.7</td>\n",
       "      <td>2.8</td>\n",
       "      <td>6.7</td>\n",
       "      <td>2.0</td>\n",
       "      <td>Iris-virginica</td>\n",
       "    </tr>\n",
       "    <tr>\n",
       "      <th>121</th>\n",
       "      <td>5.6</td>\n",
       "      <td>2.8</td>\n",
       "      <td>4.9</td>\n",
       "      <td>2.0</td>\n",
       "      <td>Iris-virginica</td>\n",
       "    </tr>\n",
       "    <tr>\n",
       "      <th>...</th>\n",
       "      <td>...</td>\n",
       "      <td>...</td>\n",
       "      <td>...</td>\n",
       "      <td>...</td>\n",
       "      <td>...</td>\n",
       "    </tr>\n",
       "    <tr>\n",
       "      <th>31</th>\n",
       "      <td>5.4</td>\n",
       "      <td>3.4</td>\n",
       "      <td>1.5</td>\n",
       "      <td>0.4</td>\n",
       "      <td>Iris-setosa</td>\n",
       "    </tr>\n",
       "    <tr>\n",
       "      <th>30</th>\n",
       "      <td>4.8</td>\n",
       "      <td>3.1</td>\n",
       "      <td>1.6</td>\n",
       "      <td>0.2</td>\n",
       "      <td>Iris-setosa</td>\n",
       "    </tr>\n",
       "    <tr>\n",
       "      <th>29</th>\n",
       "      <td>4.7</td>\n",
       "      <td>3.2</td>\n",
       "      <td>1.6</td>\n",
       "      <td>0.2</td>\n",
       "      <td>Iris-setosa</td>\n",
       "    </tr>\n",
       "    <tr>\n",
       "      <th>28</th>\n",
       "      <td>5.2</td>\n",
       "      <td>3.4</td>\n",
       "      <td>1.4</td>\n",
       "      <td>0.2</td>\n",
       "      <td>Iris-setosa</td>\n",
       "    </tr>\n",
       "    <tr>\n",
       "      <th>0</th>\n",
       "      <td>5.1</td>\n",
       "      <td>3.5</td>\n",
       "      <td>1.4</td>\n",
       "      <td>0.2</td>\n",
       "      <td>Iris-setosa</td>\n",
       "    </tr>\n",
       "  </tbody>\n",
       "</table>\n",
       "<p>150 rows × 5 columns</p>\n",
       "</div>"
      ],
      "text/plain": [
       "     sepal_length  sepal_width  petal_length  petal_width           class\n",
       "139           6.9          3.1           5.4          2.1       Virginica\n",
       "149           5.9          3.0           5.1          1.8  Iris-virginica\n",
       "111           6.4          2.7           5.3          1.9  Iris-virginica\n",
       "122           7.7          2.8           6.7          2.0  Iris-virginica\n",
       "121           5.6          2.8           4.9          2.0  Iris-virginica\n",
       "..            ...          ...           ...          ...             ...\n",
       "31            5.4          3.4           1.5          0.4     Iris-setosa\n",
       "30            4.8          3.1           1.6          0.2     Iris-setosa\n",
       "29            4.7          3.2           1.6          0.2     Iris-setosa\n",
       "28            5.2          3.4           1.4          0.2     Iris-setosa\n",
       "0             5.1          3.5           1.4          0.2     Iris-setosa\n",
       "\n",
       "[150 rows x 5 columns]"
      ]
     },
     "execution_count": 30,
     "metadata": {},
     "output_type": "execute_result"
    }
   ],
   "source": [
    "df.sort_values(by='class', ascending=False)"
   ]
  },
  {
   "cell_type": "code",
   "execution_count": 31,
   "id": "a3d2ea1f-152a-4d39-92a0-a7b493677fb9",
   "metadata": {},
   "outputs": [],
   "source": [
    "# TODO: use .loc to change the value for that row number and the \"class\" column to the correct value"
   ]
  },
  {
   "cell_type": "code",
   "execution_count": 33,
   "id": "3f7ab709-4b04-4d6b-aac4-d376352e6ae4",
   "metadata": {},
   "outputs": [],
   "source": [
    "df.loc[139, 'class'] = \"Iris-virginica\""
   ]
  },
  {
   "cell_type": "code",
   "execution_count": 34,
   "id": "a0807447-f6a8-4f7d-ad18-20cf2dc77556",
   "metadata": {},
   "outputs": [],
   "source": [
    "# TODO: use the unique() function to check that there are now only three unique values"
   ]
  },
  {
   "cell_type": "code",
   "execution_count": 35,
   "id": "406326ae-1b0f-4207-94ca-f78ac5e30054",
   "metadata": {},
   "outputs": [
    {
     "data": {
      "text/plain": [
       "array(['Iris-setosa', 'Iris-versicolor', 'Iris-virginica'], dtype=object)"
      ]
     },
     "execution_count": 35,
     "metadata": {},
     "output_type": "execute_result"
    }
   ],
   "source": [
    "df['class'].unique()"
   ]
  },
  {
   "cell_type": "markdown",
   "id": "950bcee3-7e09-49f9-b59c-e406eee43509",
   "metadata": {},
   "source": [
    "# Part 5: Saving the dataset"
   ]
  },
  {
   "cell_type": "markdown",
   "id": "01adfe88-4e90-4ff6-9513-b53f52dc84ad",
   "metadata": {},
   "source": [
    "Finally, we finished cleaning the Iris dataset. We can save our finished product as a `.csv` (comma-separated values) file. This is a common file format for storing datasets, and we can easily read it back into a pandas DataFrame later. Pandas has a [to_csv()](https://pandas.pydata.org/docs/reference/api/pandas.DataFrame.to_csv.html) method to do this."
   ]
  },
  {
   "cell_type": "code",
   "execution_count": 37,
   "id": "f444c702-78c1-46e2-b6ae-e0489ea68190",
   "metadata": {},
   "outputs": [],
   "source": [
    "filename = 'data/iris_clean.csv'\n",
    "df.to_csv(filename, index=None)"
   ]
  }
 ],
 "metadata": {
  "kernelspec": {
   "display_name": "Python [conda env:ml] *",
   "language": "python",
   "name": "conda-env-ml-py"
  },
  "language_info": {
   "codemirror_mode": {
    "name": "ipython",
    "version": 3
   },
   "file_extension": ".py",
   "mimetype": "text/x-python",
   "name": "python",
   "nbconvert_exporter": "python",
   "pygments_lexer": "ipython3",
   "version": "3.8.15"
  }
 },
 "nbformat": 4,
 "nbformat_minor": 5
}
